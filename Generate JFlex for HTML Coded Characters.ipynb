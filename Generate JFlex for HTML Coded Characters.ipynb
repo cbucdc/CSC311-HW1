{
 "cells": [
  {
   "cell_type": "markdown",
   "metadata": {},
   "source": [
    "# Generate JFlex code for matching HTML coded characters"
   ]
  },
  {
   "cell_type": "code",
   "execution_count": 1,
   "metadata": {
    "collapsed": true
   },
   "outputs": [],
   "source": [
    "from html import unescape"
   ]
  },
  {
   "cell_type": "code",
   "execution_count": 2,
   "metadata": {
    "collapsed": true
   },
   "outputs": [],
   "source": [
    "# list of characters to translate copied from HW PDF\n",
    "# Bad formatting is due to being copied from PDF, the code handles it\n",
    "s = '''&#38; \n",
    "&#42;\n",
    "&#45;\n",
    "&#58;\n",
    "&#59;\n",
    "&#60;\n",
    "&#61\n",
    ";\n",
    "&#62\n",
    ";\n",
    "&#63\n",
    ";'''"
   ]
  },
  {
   "cell_type": "code",
   "execution_count": 23,
   "metadata": {
    "collapsed": false
   },
   "outputs": [
    {
     "data": {
      "text/plain": [
       "[('&#38;', '&'),\n",
       " ('&#42;', '*'),\n",
       " ('&#45;', '-'),\n",
       " ('&#58;', ':'),\n",
       " ('&#59;', ';'),\n",
       " ('&#60;', '<'),\n",
       " ('&#61;', '='),\n",
       " ('&#62;', '>'),\n",
       " ('&#63;', '?')]"
      ]
     },
     "execution_count": 23,
     "metadata": {},
     "output_type": "execute_result"
    }
   ],
   "source": [
    "# get all necessary info about each char that needs to be escaped\n",
    "chars = []\n",
    "for i in s.split(';'):\n",
    "     if len(i) > 0:\n",
    "        chars.append((\n",
    "            i.strip()+';',\n",
    "            unescape(i).strip(),\n",
    "        ))\n",
    "chars"
   ]
  },
  {
   "cell_type": "code",
   "execution_count": 26,
   "metadata": {
    "collapsed": false
   },
   "outputs": [
    {
     "name": "stdout",
     "output_type": "stream",
     "text": [
      "&#38;+ {System.out.print(\"&\");}\n",
      "&#42;+ {System.out.print(\"*\");}\n",
      "&#45;+ {System.out.print(\"-\");}\n",
      "&#58;+ {System.out.print(\":\");}\n",
      "&#59;+ {System.out.print(\";\");}\n",
      "&#60;+ {System.out.print(\"<\");}\n",
      "&#61;+ {System.out.print(\"=\");}\n",
      "&#62;+ {System.out.print(\">\");}\n",
      "&#63;+ {System.out.print(\"?\");}\n"
     ]
    }
   ],
   "source": [
    "# generate JFles/Java code from the regexes/coded chars and unescaped versions\n",
    "lines = []\n",
    "for c in chars:\n",
    "    lines.append('{}+ {{System.out.print(\"{}\");}}'.format(c[0], c[1]))\n",
    "print('\\n'.join(lines))"
   ]
  },
  {
   "cell_type": "code",
   "execution_count": null,
   "metadata": {
    "collapsed": true
   },
   "outputs": [],
   "source": []
  }
 ],
 "metadata": {
  "kernelspec": {
   "display_name": "Python 3",
   "language": "python",
   "name": "python3"
  },
  "language_info": {
   "codemirror_mode": {
    "name": "ipython",
    "version": 3
   },
   "file_extension": ".py",
   "mimetype": "text/x-python",
   "name": "python",
   "nbconvert_exporter": "python",
   "pygments_lexer": "ipython3",
   "version": "3.5.3"
  }
 },
 "nbformat": 4,
 "nbformat_minor": 2
}
